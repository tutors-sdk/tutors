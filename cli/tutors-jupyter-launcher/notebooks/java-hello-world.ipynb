{
  "cells": [
    {
      "cell_type": "raw",
      "metadata": {
        "vscode": {
          "languageId": "raw"
        }
      },
      "source": [
        "# Java Hello World Lab\n",
        "\n",
        "Welcome to your first Java programming lab! In this notebook, you'll learn the basics of Java programming by creating and running simple Java applications.\n",
        "\n",
        "## Prerequisites\n",
        "- Java Development Kit (JDK) installed\n",
        "- IJava kernel for Jupyter (install with: `conda install -c conda-forge ijava` or follow [IJava installation guide](https://github.com/SpencerPark/IJava))\n",
        "\n",
        "## Learning Objectives\n",
        "By the end of this lab, you will:\n",
        "1. Understand basic Java syntax\n",
        "2. Create and run your first Java program\n",
        "3. Work with variables and data types\n",
        "4. Use basic input/output operations\n"
      ]
    },
    {
      "cell_type": "raw",
      "metadata": {
        "vscode": {
          "languageId": "raw"
        }
      },
      "source": [
        "## Exercise 1: Hello World\n",
        "\n",
        "Let's start with the classic \"Hello, World!\" program. In Java, every program starts with a main method inside a class.\n"
      ]
    },
    {
      "cell_type": "code",
      "execution_count": null,
      "metadata": {
        "vscode": {
          "languageId": "java"
        }
      },
      "outputs": [],
      "source": [
        "public class HelloWorld {\n",
        "    public static void main(String[] args) {\n",
        "        System.out.println(\"Hello, World!\");\n",
        "        System.out.println(\"Welcome to Java programming!\");\n",
        "    }\n",
        "}\n",
        "\n",
        "// Run the main method\n",
        "HelloWorld.main(new String[0]);\n"
      ]
    },
    {
      "cell_type": "raw",
      "metadata": {
        "vscode": {
          "languageId": "raw"
        }
      },
      "source": [
        "## Exercise 2: Working with Variables\n",
        "\n",
        "Java is a strongly-typed language, which means you must declare the type of each variable. Let's explore different data types.\n"
      ]
    },
    {
      "cell_type": "code",
      "execution_count": null,
      "metadata": {
        "vscode": {
          "languageId": "java"
        }
      },
      "outputs": [],
      "source": [
        "// Different data types in Java\n",
        "int age = 25;\n",
        "double height = 5.9;\n",
        "String name = \"Alice\";\n",
        "boolean isStudent = true;\n",
        "char grade = 'A';\n",
        "\n",
        "// Display the variables\n",
        "System.out.println(\"Name: \" + name);\n",
        "System.out.println(\"Age: \" + age);\n",
        "System.out.println(\"Height: \" + height + \" feet\");\n",
        "System.out.println(\"Is Student: \" + isStudent);\n",
        "System.out.println(\"Grade: \" + grade);\n"
      ]
    },
    {
      "cell_type": "raw",
      "metadata": {
        "vscode": {
          "languageId": "raw"
        }
      },
      "source": [
        "## Exercise 3: Basic Calculations\n",
        "\n",
        "Let's perform some basic mathematical operations and see how Java handles different numeric types.\n"
      ]
    },
    {
      "cell_type": "code",
      "execution_count": null,
      "metadata": {
        "vscode": {
          "languageId": "java"
        }
      },
      "outputs": [],
      "source": [
        "// Basic arithmetic operations\n",
        "int a = 10;\n",
        "int b = 3;\n",
        "\n",
        "System.out.println(\"Addition: \" + a + \" + \" + b + \" = \" + (a + b));\n",
        "System.out.println(\"Subtraction: \" + a + \" - \" + b + \" = \" + (a - b));\n",
        "System.out.println(\"Multiplication: \" + a + \" * \" + b + \" = \" + (a * b));\n",
        "System.out.println(\"Division: \" + a + \" / \" + b + \" = \" + (a / b));\n",
        "System.out.println(\"Remainder: \" + a + \" % \" + b + \" = \" + (a % b));\n",
        "\n",
        "// Working with doubles for precise division\n",
        "double preciseResult = (double) a / b;\n",
        "System.out.println(\"Precise division: \" + a + \" / \" + b + \" = \" + preciseResult);\n"
      ]
    },
    {
      "cell_type": "raw",
      "metadata": {
        "vscode": {
          "languageId": "raw"
        }
      },
      "source": [
        "## Challenge Exercise: Simple Calculator\n",
        "\n",
        "Create a simple calculator that performs basic operations. Try implementing methods for addition, subtraction, multiplication, and division.\n"
      ]
    },
    {
      "cell_type": "code",
      "execution_count": null,
      "metadata": {
        "vscode": {
          "languageId": "java"
        }
      },
      "outputs": [],
      "source": [
        "// Simple Calculator Methods\n",
        "public static double add(double x, double y) {\n",
        "    return x + y;\n",
        "}\n",
        "\n",
        "public static double subtract(double x, double y) {\n",
        "    return x - y;\n",
        "}\n",
        "\n",
        "public static double multiply(double x, double y) {\n",
        "    return x * y;\n",
        "}\n",
        "\n",
        "public static double divide(double x, double y) {\n",
        "    if (y != 0) {\n",
        "        return x / y;\n",
        "    } else {\n",
        "        System.out.println(\"Error: Division by zero!\");\n",
        "        return 0;\n",
        "    }\n",
        "}\n",
        "\n",
        "// Test the calculator\n",
        "double num1 = 15.5;\n",
        "double num2 = 4.2;\n",
        "\n",
        "System.out.println(\"Calculator Results:\");\n",
        "System.out.println(num1 + \" + \" + num2 + \" = \" + add(num1, num2));\n",
        "System.out.println(num1 + \" - \" + num2 + \" = \" + subtract(num1, num2));\n",
        "System.out.println(num1 + \" * \" + num2 + \" = \" + multiply(num1, num2));\n",
        "System.out.println(num1 + \" / \" + num2 + \" = \" + divide(num1, num2));\n"
      ]
    },
    {
      "cell_type": "raw",
      "metadata": {
        "vscode": {
          "languageId": "raw"
        }
      },
      "source": [
        "## Congratulations! 🎉\n",
        "\n",
        "You've completed your first Java programming lab! You've learned:\n",
        "\n",
        "- How to write and run Java code\n",
        "- Working with different data types\n",
        "- Basic arithmetic operations\n",
        "- Creating and calling methods\n",
        "\n",
        "### Next Steps:\n",
        "1. Try modifying the examples above\n",
        "2. Create your own methods\n",
        "3. Experiment with different data types\n",
        "4. Move on to more advanced Java concepts like loops and conditionals\n",
        "\n",
        "### Resources:\n",
        "- [Oracle Java Documentation](https://docs.oracle.com/javase/)\n",
        "- [Java Tutorials](https://docs.oracle.com/javase/tutorial/)\n",
        "- [IJava Kernel Documentation](https://github.com/SpencerPark/IJava)\n"
      ]
    }
  ],
  "metadata": {
    "language_info": {
      "name": "python"
    }
  },
  "nbformat": 4,
  "nbformat_minor": 2
}
