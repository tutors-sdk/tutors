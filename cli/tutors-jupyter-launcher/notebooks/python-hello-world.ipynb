{
 "cells": [
  {
   "cell_type": "raw",
   "metadata": {
    "vscode": {
     "languageId": "raw"
    }
   },
   "source": [
    "# Python Hello World Lab\n",
    "\n",
    "Welcome to your first Python programming lab! In this notebook, you'll learn the basics of Python programming by creating and running simple Python applications.\n",
    "\n",
    "## Prerequisites\n",
    "- Python 3.x installed\n",
    "- Jupyter Notebook or JupyterLab\n",
    "\n",
    "## Learning Objectives\n",
    "By the end of this lab, you will:\n",
    "1. Understand basic Python syntax\n",
    "2. Create and run your first Python program\n",
    "3. Work with variables and data types\n",
    "4. Use basic input/output operations\n"
   ]
  },
  {
   "cell_type": "raw",
   "metadata": {
    "vscode": {
     "languageId": "raw"
    }
   },
   "source": [
    "## Exercise 1: Hello World\n",
    "\n",
    "Let's start with the classic \"Hello, World!\" program. Python makes this very simple with the `print()` function.\n"
   ]
  },
  {
   "cell_type": "code",
   "execution_count": null,
   "metadata": {},
   "outputs": [],
   "source": [
    "# Your first Python program\n",
    "print(\"Hello, World!\")\n",
    "print(\"Welcome to Python programming!\")\n"
   ]
  },
  {
   "cell_type": "raw",
   "metadata": {
    "vscode": {
     "languageId": "raw"
    }
   },
   "source": [
    "## Exercise 2: Working with Variables\n",
    "\n",
    "Python is a dynamically-typed language, which means you don't need to declare variable types explicitly. Python automatically determines the type based on the value.\n"
   ]
  },
  {
   "cell_type": "code",
   "execution_count": null,
   "metadata": {},
   "outputs": [],
   "source": [
    "# Different data types in Python\n",
    "age = 25\n",
    "height = 5.9\n",
    "name = \"Alice\"\n",
    "is_student = True\n",
    "grade = 'A'\n",
    "\n",
    "# Display the variables\n",
    "print(\"Name:\", name)\n",
    "print(\"Age:\", age)\n",
    "print(\"Height:\", height, \"feet\")\n",
    "print(\"Is Student:\", is_student)\n",
    "print(\"Grade:\", grade)\n",
    "\n",
    "# Check variable types\n",
    "print(\"\\nVariable types:\")\n",
    "print(\"Type of age:\", type(age))\n",
    "print(\"Type of height:\", type(height))\n",
    "print(\"Type of name:\", type(name))\n",
    "print(\"Type of is_student:\", type(is_student))\n"
   ]
  },
  {
   "cell_type": "raw",
   "metadata": {
    "vscode": {
     "languageId": "raw"
    }
   },
   "source": [
    "## Exercise 3: Basic Calculations\n",
    "\n",
    "Let's perform some basic mathematical operations and see how Python handles different numeric types.\n"
   ]
  },
  {
   "cell_type": "code",
   "execution_count": null,
   "metadata": {},
   "outputs": [],
   "source": [
    "# Basic arithmetic operations\n",
    "a = 10\n",
    "b = 3\n",
    "\n",
    "print(\"Addition:\", a, \"+\", b, \"=\", a + b)\n",
    "print(\"Subtraction:\", a, \"-\", b, \"=\", a - b)\n",
    "print(\"Multiplication:\", a, \"*\", b, \"=\", a * b)\n",
    "print(\"Division:\", a, \"/\", b, \"=\", a / b)\n",
    "print(\"Floor Division:\", a, \"//\", b, \"=\", a // b)\n",
    "print(\"Remainder:\", a, \"%\", b, \"=\", a % b)\n",
    "print(\"Exponentiation:\", a, \"**\", b, \"=\", a ** b)\n",
    "\n",
    "# Python automatically handles float division\n",
    "print(\"\\nPython automatically gives precise division:\", a / b)\n"
   ]
  },
  {
   "cell_type": "raw",
   "metadata": {
    "vscode": {
     "languageId": "raw"
    }
   },
   "source": [
    "## Exercise 4: Working with Strings\n",
    "\n",
    "Python has powerful string manipulation capabilities. Let's explore some basic string operations.\n"
   ]
  },
  {
   "cell_type": "code",
   "execution_count": null,
   "metadata": {},
   "outputs": [],
   "source": [
    "# String operations\n",
    "first_name = \"John\"\n",
    "last_name = \"Doe\"\n",
    "\n",
    "# String concatenation\n",
    "full_name = first_name + \" \" + last_name\n",
    "print(\"Full name:\", full_name)\n",
    "\n",
    "# String formatting (f-strings)\n",
    "age = 30\n",
    "print(f\"My name is {full_name} and I am {age} years old.\")\n",
    "\n",
    "# String methods\n",
    "message = \"hello world\"\n",
    "print(\"Original:\", message)\n",
    "print(\"Uppercase:\", message.upper())\n",
    "print(\"Title case:\", message.title())\n",
    "print(\"Length:\", len(message))\n"
   ]
  },
  {
   "cell_type": "raw",
   "metadata": {
    "vscode": {
     "languageId": "raw"
    }
   },
   "source": [
    "## Challenge Exercise: Simple Calculator\n",
    "\n",
    "Create a simple calculator using Python functions. Python functions are defined using the `def` keyword.\n"
   ]
  },
  {
   "cell_type": "code",
   "execution_count": null,
   "metadata": {},
   "outputs": [],
   "source": [
    "# Simple Calculator Functions\n",
    "def add(x, y):\n",
    "    return x + y\n",
    "\n",
    "def subtract(x, y):\n",
    "    return x - y\n",
    "\n",
    "def multiply(x, y):\n",
    "    return x * y\n",
    "\n",
    "def divide(x, y):\n",
    "    if y != 0:\n",
    "        return x / y\n",
    "    else:\n",
    "        return \"Error: Division by zero!\"\n",
    "\n",
    "# Test the calculator\n",
    "num1 = 15.5\n",
    "num2 = 4.2\n",
    "\n",
    "print(\"Calculator Results:\")\n",
    "print(f\"{num1} + {num2} = {add(num1, num2)}\")\n",
    "print(f\"{num1} - {num2} = {subtract(num1, num2)}\")\n",
    "print(f\"{num1} * {num2} = {multiply(num1, num2)}\")\n",
    "print(f\"{num1} / {num2} = {divide(num1, num2)}\")\n",
    "\n",
    "# Test division by zero\n",
    "print(f\"{num1} / 0 = {divide(num1, 0)}\")\n"
   ]
  },
  {
   "cell_type": "raw",
   "metadata": {
    "vscode": {
     "languageId": "raw"
    }
   },
   "source": [
    "## Bonus: Working with Lists\n",
    "\n",
    "Python lists are versatile data structures that can hold multiple items.\n"
   ]
  },
  {
   "cell_type": "code",
   "execution_count": null,
   "metadata": {},
   "outputs": [],
   "source": [
    "# Working with lists\n",
    "numbers = [1, 2, 3, 4, 5]\n",
    "fruits = [\"apple\", \"banana\", \"orange\"]\n",
    "\n",
    "print(\"Numbers:\", numbers)\n",
    "print(\"Fruits:\", fruits)\n",
    "\n",
    "# List operations\n",
    "numbers.append(6)\n",
    "print(\"After appending 6:\", numbers)\n",
    "\n",
    "# List comprehension (Pythonic way)\n",
    "squares = [x**2 for x in numbers]\n",
    "print(\"Squares:\", squares)\n",
    "\n",
    "# Sum of numbers\n",
    "total = sum(numbers)\n",
    "print(\"Sum of numbers:\", total)\n"
   ]
  },
  {
   "cell_type": "raw",
   "metadata": {
    "vscode": {
     "languageId": "raw"
    }
   },
   "source": [
    "## Congratulations! 🎉\n",
    "\n",
    "You've completed your first Python programming lab! You've learned:\n",
    "\n",
    "- How to write and run Python code\n",
    "- Working with different data types\n",
    "- Basic arithmetic operations\n",
    "- String manipulation\n",
    "- Creating and calling functions\n",
    "- Working with lists\n",
    "\n",
    "### Next Steps:\n",
    "1. Try modifying the examples above\n",
    "2. Create your own functions\n",
    "3. Experiment with different data structures (dictionaries, tuples)\n",
    "4. Move on to more advanced Python concepts like loops and conditionals\n",
    "\n",
    "### Resources:\n",
    "- [Python Official Documentation](https://docs.python.org/3/)\n",
    "- [Python Tutorial](https://docs.python.org/3/tutorial/)\n",
    "- [Real Python](https://realpython.com/)\n",
    "- [Python.org Beginner's Guide](https://wiki.python.org/moin/BeginnersGuide)\n"
   ]
  }
 ],
 "metadata": {
  "kernelspec": {
   "display_name": "Python 3 (ipykernel)",
   "language": "python",
   "name": "python3"
  },
  "language_info": {
   "codemirror_mode": {
    "name": "ipython",
    "version": 3
   },
   "file_extension": ".py",
   "mimetype": "text/x-python",
   "name": "python",
   "nbconvert_exporter": "python",
   "pygments_lexer": "ipython3",
   "version": "3.10.7"
  }
 },
 "nbformat": 4,
 "nbformat_minor": 4
}
