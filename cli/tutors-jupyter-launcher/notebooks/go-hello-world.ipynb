{
  "cells": [
    {
      "cell_type": "raw",
      "metadata": {
        "vscode": {
          "languageId": "raw"
        }
      },
      "source": [
        "# Go Hello World Lab\n",
        "\n",
        "Welcome to your first Go programming lab! In this notebook, you'll learn the basics of Go programming by creating and running simple Go applications.\n",
        "\n",
        "## Prerequisites\n",
        "- Go 1.18+ installed\n",
        "- gophernotes kernel for Jupyter (install with: `go install github.com/gopherdata/gophernotes@latest` and follow [setup instructions](https://github.com/gopherdata/gophernotes))\n",
        "\n",
        "## Learning Objectives\n",
        "By the end of this lab, you will:\n",
        "1. Understand basic Go syntax\n",
        "2. Create and run your first Go program\n",
        "3. Work with variables and data types\n",
        "4. Use basic input/output operations\n"
      ]
    },
    {
      "cell_type": "raw",
      "metadata": {
        "vscode": {
          "languageId": "raw"
        }
      },
      "source": [
        "## Exercise 1: Hello World\n",
        "\n",
        "Let's start with the classic \"Hello, World!\" program. In Go, we use the `fmt` package for formatted I/O operations.\n"
      ]
    },
    {
      "cell_type": "raw",
      "metadata": {
        "vscode": {
          "languageId": "other"
        }
      },
      "source": [
        "import \"fmt\"\n",
        "\n",
        "fmt.Println(\"Hello, World!\")\n",
        "fmt.Println(\"Welcome to Go programming!\")\n"
      ]
    },
    {
      "cell_type": "raw",
      "metadata": {
        "vscode": {
          "languageId": "raw"
        }
      },
      "source": [
        "## Exercise 2: Working with Variables\n",
        "\n",
        "Go is a statically-typed language with type inference. You can declare variables explicitly or let Go infer the type.\n"
      ]
    },
    {
      "cell_type": "raw",
      "metadata": {
        "vscode": {
          "languageId": "other"
        }
      },
      "source": [
        "import \"fmt\"\n",
        "\n",
        "// Different ways to declare variables in Go\n",
        "var age int = 25\n",
        "var height float64 = 5.9\n",
        "name := \"Alice\"  // Short variable declaration\n",
        "isStudent := true\n",
        "var grade rune = 'A'  // rune is an alias for int32\n",
        "\n",
        "// Display the variables\n",
        "fmt.Println(\"Name:\", name)\n",
        "fmt.Println(\"Age:\", age)\n",
        "fmt.Printf(\"Height: %.1f feet\\n\", height)\n",
        "fmt.Println(\"Is Student:\", isStudent)\n",
        "fmt.Printf(\"Grade: %c\\n\", grade)\n",
        "\n",
        "// Check variable types using Printf with %T verb\n",
        "fmt.Println(\"\\nVariable types:\")\n",
        "fmt.Printf(\"Type of age: %T\\n\", age)\n",
        "fmt.Printf(\"Type of height: %T\\n\", height)\n",
        "fmt.Printf(\"Type of name: %T\\n\", name)\n",
        "fmt.Printf(\"Type of isStudent: %T\\n\", isStudent)\n"
      ]
    },
    {
      "cell_type": "raw",
      "metadata": {
        "vscode": {
          "languageId": "raw"
        }
      },
      "source": [
        "## Exercise 3: Basic Calculations\n",
        "\n",
        "Let's perform some basic mathematical operations and see how Go handles different numeric types.\n"
      ]
    },
    {
      "cell_type": "raw",
      "metadata": {
        "vscode": {
          "languageId": "other"
        }
      },
      "source": [
        "import \"fmt\"\n",
        "\n",
        "// Basic arithmetic operations\n",
        "a := 10\n",
        "b := 3\n",
        "\n",
        "fmt.Printf(\"Addition: %d + %d = %d\\n\", a, b, a+b)\n",
        "fmt.Printf(\"Subtraction: %d - %d = %d\\n\", a, b, a-b)\n",
        "fmt.Printf(\"Multiplication: %d * %d = %d\\n\", a, b, a*b)\n",
        "fmt.Printf(\"Division: %d / %d = %d\\n\", a, b, a/b)\n",
        "fmt.Printf(\"Remainder: %d %% %d = %d\\n\", a, b, a%b)\n",
        "\n",
        "// Working with floats for precise division\n",
        "floatA := float64(a)\n",
        "floatB := float64(b)\n",
        "fmt.Printf(\"Precise division: %.1f / %.1f = %.6f\\n\", floatA, floatB, floatA/floatB)\n"
      ]
    },
    {
      "cell_type": "raw",
      "metadata": {
        "vscode": {
          "languageId": "raw"
        }
      },
      "source": [
        "## Exercise 4: Working with Strings\n",
        "\n",
        "Go has good string manipulation capabilities. Let's explore some basic string operations.\n"
      ]
    },
    {
      "cell_type": "raw",
      "metadata": {
        "vscode": {
          "languageId": "other"
        }
      },
      "source": [
        "import (\n",
        "    \"fmt\"\n",
        "    \"strings\"\n",
        ")\n",
        "\n",
        "// String operations\n",
        "firstName := \"John\"\n",
        "lastName := \"Doe\"\n",
        "\n",
        "// String concatenation\n",
        "fullName := firstName + \" \" + lastName\n",
        "fmt.Println(\"Full name:\", fullName)\n",
        "\n",
        "// String formatting\n",
        "age := 30\n",
        "fmt.Printf(\"My name is %s and I am %d years old.\\n\", fullName, age)\n",
        "\n",
        "// String functions from strings package\n",
        "message := \"hello world\"\n",
        "fmt.Println(\"Original:\", message)\n",
        "fmt.Println(\"Uppercase:\", strings.ToUpper(message))\n",
        "fmt.Println(\"Title case:\", strings.Title(message))\n",
        "fmt.Println(\"Length:\", len(message))\n",
        "fmt.Println(\"Contains 'world':\", strings.Contains(message, \"world\"))\n"
      ]
    },
    {
      "cell_type": "raw",
      "metadata": {
        "vscode": {
          "languageId": "raw"
        }
      },
      "source": [
        "## Challenge Exercise: Simple Calculator\n",
        "\n",
        "Create a simple calculator using Go functions. Functions in Go are defined using the `func` keyword.\n"
      ]
    },
    {
      "cell_type": "raw",
      "metadata": {
        "vscode": {
          "languageId": "other"
        }
      },
      "source": [
        "import \"fmt\"\n",
        "\n",
        "// Simple Calculator Functions\n",
        "func add(x, y float64) float64 {\n",
        "    return x + y\n",
        "}\n",
        "\n",
        "func subtract(x, y float64) float64 {\n",
        "    return x - y\n",
        "}\n",
        "\n",
        "func multiply(x, y float64) float64 {\n",
        "    return x * y\n",
        "}\n",
        "\n",
        "func divide(x, y float64) (float64, error) {\n",
        "    if y == 0 {\n",
        "        return 0, fmt.Errorf(\"division by zero\")\n",
        "    }\n",
        "    return x / y, nil\n",
        "}\n",
        "\n",
        "// Test the calculator\n",
        "num1 := 15.5\n",
        "num2 := 4.2\n",
        "\n",
        "fmt.Println(\"Calculator Results:\")\n",
        "fmt.Printf(\"%.1f + %.1f = %.6f\\n\", num1, num2, add(num1, num2))\n",
        "fmt.Printf(\"%.1f - %.1f = %.6f\\n\", num1, num2, subtract(num1, num2))\n",
        "fmt.Printf(\"%.1f * %.1f = %.6f\\n\", num1, num2, multiply(num1, num2))\n",
        "\n",
        "result, err := divide(num1, num2)\n",
        "if err != nil {\n",
        "    fmt.Printf(\"%.1f / %.1f = Error: %v\\n\", num1, num2, err)\n",
        "} else {\n",
        "    fmt.Printf(\"%.1f / %.1f = %.6f\\n\", num1, num2, result)\n",
        "}\n",
        "\n",
        "// Test division by zero\n",
        "result, err = divide(num1, 0)\n",
        "if err != nil {\n",
        "    fmt.Printf(\"%.1f / 0 = Error: %v\\n\", num1, err)\n",
        "} else {\n",
        "    fmt.Printf(\"%.1f / 0 = %.6f\\n\", num1, result)\n",
        "}\n"
      ]
    },
    {
      "cell_type": "raw",
      "metadata": {
        "vscode": {
          "languageId": "raw"
        }
      },
      "source": [
        "## Bonus: Working with Slices\n",
        "\n",
        "Go slices are dynamic arrays that are more flexible than regular arrays.\n"
      ]
    },
    {
      "cell_type": "raw",
      "metadata": {
        "vscode": {
          "languageId": "other"
        }
      },
      "source": [
        "import \"fmt\"\n",
        "\n",
        "// Working with slices\n",
        "numbers := []int{1, 2, 3, 4, 5}\n",
        "fruits := []string{\"apple\", \"banana\", \"orange\"}\n",
        "\n",
        "fmt.Println(\"Numbers:\", numbers)\n",
        "fmt.Println(\"Fruits:\", fruits)\n",
        "\n",
        "// Slice operations\n",
        "numbers = append(numbers, 6)\n",
        "fmt.Println(\"After appending 6:\", numbers)\n",
        "\n",
        "// Create squares slice\n",
        "squares := make([]int, len(numbers))\n",
        "for i, num := range numbers {\n",
        "    squares[i] = num * num\n",
        "}\n",
        "fmt.Println(\"Squares:\", squares)\n",
        "\n",
        "// Sum of numbers\n",
        "total := 0\n",
        "for _, num := range numbers {\n",
        "    total += num\n",
        "}\n",
        "fmt.Println(\"Sum of numbers:\", total)\n",
        "\n",
        "// Slice of slice\n",
        "fmt.Println(\"First 3 numbers:\", numbers[:3])\n",
        "fmt.Println(\"Last 3 numbers:\", numbers[len(numbers)-3:])\n"
      ]
    },
    {
      "cell_type": "raw",
      "metadata": {
        "vscode": {
          "languageId": "raw"
        }
      },
      "source": [
        "## Congratulations! 🎉\n",
        "\n",
        "You've completed your first Go programming lab! You've learned:\n",
        "\n",
        "- How to write and run Go code\n",
        "- Working with different data types\n",
        "- Basic arithmetic operations\n",
        "- String manipulation\n",
        "- Creating and calling functions with error handling\n",
        "- Working with slices\n",
        "\n",
        "### Next Steps:\n",
        "1. Try modifying the examples above\n",
        "2. Create your own functions\n",
        "3. Experiment with different data structures (maps, structs)\n",
        "4. Move on to more advanced Go concepts like goroutines and channels\n",
        "\n",
        "### Resources:\n",
        "- [Go Official Documentation](https://golang.org/doc/)\n",
        "- [A Tour of Go](https://tour.golang.org/)\n",
        "- [Go by Example](https://gobyexample.com/)\n",
        "- [Effective Go](https://golang.org/doc/effective_go.html)\n",
        "- [Gophernotes Kernel](https://github.com/gopherdata/gophernotes)\n"
      ]
    }
  ],
  "metadata": {
    "language_info": {
      "name": "python"
    }
  },
  "nbformat": 4,
  "nbformat_minor": 2
}
